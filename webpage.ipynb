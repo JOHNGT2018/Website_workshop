{
 "cells": [
  {
   "cell_type": "code",
   "execution_count": null,
   "metadata": {},
   "outputs": [],
   "source": [
    "<form action=\"action_page.php\" method=\"post\">\n",
    "  <div class=\"imgcontainer\">\n",
    "    <img src=\"img_avatar2.png\" alt=\"Avatar\" class=\"avatar\">\n",
    "  </div>\n",
    "\n",
    "  <div class=\"container\">\n",
    "    <label for=\"uname\"><b>Username</b></label>\n",
    "    <input type=\"text\" placeholder=\"Enter Username\" name=\"uname\" required>\n",
    "\n",
    "    <label for=\"psw\"><b>Password</b></label>\n",
    "    <input type=\"password\" placeholder=\"Enter Password\" name=\"psw\" required>\n",
    "\n",
    "    <button type=\"submit\">Login</button>\n",
    "    <label>\n",
    "      <input type=\"checkbox\" checked=\"checked\" name=\"remember\"> Remember me\n",
    "    </label>\n",
    "  </div>\n",
    "\n",
    "  <div class=\"container\" style=\"background-color:#f1f1f1\">\n",
    "    <button type=\"button\" class=\"cancelbtn\">Cancel</button>\n",
    "    <span class=\"psw\">Forgot <a href=\"#\">password?</a></span>\n",
    "  </div>\n",
    "</form>"
   ]
  }
 ],
 "metadata": {
  "language_info": {
   "name": "python"
  },
  "orig_nbformat": 4
 },
 "nbformat": 4,
 "nbformat_minor": 2
}
