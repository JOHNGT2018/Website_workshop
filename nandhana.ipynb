{
 "cells": [
  {
   "cell_type": "code",
   "execution_count": null,
   "metadata": {},
   "outputs": [],
   "source": [
    "class students:\n",
    "    def __init__(self):\n",
    "        self.student=[]\n",
    "    def addstudent(self,name,regno):\n",
    "        self.student.append({\n",
    "            \"Name\":name,\n",
    "            \"reg no\":regno\n",
    "        })\n",
    "    def listAllStudent(self):\n",
    "        print(self.student)\n",
    "\n",
    "    def searchStudent(self,name):\n",
    "        pass\n",
    "    def removestudent(self,name):\n",
    "        pass\n",
    "    def __str__(self):\n",
    "        pass \n",
    "\n"
   ]
  },
  {
   "cell_type": "code",
   "execution_count": 3,
   "metadata": {},
   "outputs": [
    {
     "name": "stdout",
     "output_type": "stream",
     "text": [
      "12 * 1 = 12\n",
      "12 * 2 = 24\n",
      "12 * 3 = 36\n",
      "12 * 4 = 48\n",
      "12 * 5 = 60\n",
      "12 * 6 = 72\n",
      "12 * 7 = 84\n",
      "12 * 8 = 96\n",
      "12 * 9 = 108\n",
      "12 * 10 = 120\n"
     ]
    }
   ],
   "source": [
    "n=int(input(\"enter a number\"))\n",
    "i=1\n",
    "while i<11:\n",
    "      print(n,'*',i,'=',n * i)\n",
    "      i+=1\n",
    "\n"
   ]
  },
  {
   "cell_type": "code",
   "execution_count": 1,
   "metadata": {},
   "outputs": [
    {
     "name": "stdout",
     "output_type": "stream",
     "text": [
      "1\n",
      "2\n",
      "3\n",
      "4\n",
      "5\n",
      "6\n",
      "7\n",
      "8\n",
      "9\n",
      "10\n"
     ]
    }
   ],
   "source": [
    "#print 1 to 10 numbers\n",
    "n = 1\n",
    "for i in range (1,11):\n",
    "    print(i)\n",
    "    i = i+1"
   ]
  },
  {
   "cell_type": "code",
   "execution_count": null,
   "metadata": {},
   "outputs": [],
   "source": [
    "#even numbers in reverse order\n"
   ]
  },
  {
   "cell_type": "code",
   "execution_count": 6,
   "metadata": {},
   "outputs": [
    {
     "name": "stdout",
     "output_type": "stream",
     "text": [
      "[1, 2, 3, 4, 5, 6, 7, 8, 9]\n"
     ]
    }
   ],
   "source": [
    "a =[1,2,3,\n",
    "    4,5,6,\n",
    "    7,8,9]\n",
    "print(a)"
   ]
  },
  {
   "cell_type": "code",
   "execution_count": null,
   "metadata": {},
   "outputs": [],
   "source": [
    "#\n",
    "sum =0\n",
    "list=[1,2,3,4,5]\n",
    "for i in list:\n",
    "    i=i+1"
   ]
  },
  {
   "cell_type": "code",
   "execution_count": 13,
   "metadata": {},
   "outputs": [
    {
     "name": "stdout",
     "output_type": "stream",
     "text": [
      "@ @ @ @ @ @ @ @ @ @ \n",
      "                @   \n",
      "              @     \n",
      "            @       \n",
      "          @         \n",
      "        @           \n",
      "      @             \n",
      "    @               \n",
      "  @                 \n",
      "@                   \n"
     ]
    }
   ],
   "source": [
    "for i in range(1,11):\n",
    "    for j in range(1,11):\n",
    "        if(i==1) or (i+j==11):\n",
    "            print(\"@\",end=\" \")\n",
    "        else:\n",
    "            print(\" \",end=\" \")    \n",
    "    print()        "
   ]
  },
  {
   "cell_type": "code",
   "execution_count": 20,
   "metadata": {},
   "outputs": [
    {
     "name": "stdout",
     "output_type": "stream",
     "text": [
      "@ @ @ @ @ @ @ @ @ @ \n",
      "@                 @ \n",
      "@                 @ \n",
      "@                 @ \n",
      "@                 @ \n",
      "@                 @ \n",
      "@                 @ \n",
      "@                 @ \n",
      "@                 @ \n",
      "@ @ @ @ @ @ @ @ @ @ \n"
     ]
    }
   ],
   "source": [
    "for i in range(1,11):\n",
    "    for j in range(1,11):\n",
    "        if(i==1) or (i==10) or (j==1) or (j==10):\n",
    "            print(\"@\",end= \" \")\n",
    "        else:\n",
    "            print(\" \",end= \" \")    \n",
    "    print()  "
   ]
  },
  {
   "cell_type": "code",
   "execution_count": 23,
   "metadata": {},
   "outputs": [
    {
     "name": "stdout",
     "output_type": "stream",
     "text": [
      "@ @ @ @ @ @ @ @ @ @ \n",
      "@ @ @ @ @ @ @ @ @ @ \n",
      "@ @ @ @ @ @ @ @ @ @ \n",
      "@ @ @ @ @ @ @ @ @ @ \n",
      "@ @ @ @ @ @ @ @ @ @ \n",
      "@ @ @ @ @ @ @ @ @ @ \n",
      "@ @ @ @ @ @ @ @ @ @ \n",
      "@ @ @ @ @ @ @ @ @ @ \n",
      "@ @ @ @ @ @ @ @ @ @ \n",
      "@ @ @ @ @ @ @ @ @ @ \n"
     ]
    }
   ],
   "source": [
    "for i in range(1,11):\n",
    "    for j in range(1,11):\n",
    "            print(\"@\",end=\" \")\n",
    "    \n",
    "    print()  "
   ]
  },
  {
   "cell_type": "code",
   "execution_count": 24,
   "metadata": {},
   "outputs": [
    {
     "name": "stdout",
     "output_type": "stream",
     "text": [
      "1\n",
      "2\n",
      "3\n",
      "4\n"
     ]
    }
   ],
   "source": [
    "def printRec(x):\n",
    "     if x ==0:\n",
    "          return\n",
    "\n",
    "     printRec(x-1)\n",
    "     print(x)\n",
    "\n",
    "printRec(4)     "
   ]
  },
  {
   "cell_type": "code",
   "execution_count": 25,
   "metadata": {},
   "outputs": [
    {
     "name": "stdout",
     "output_type": "stream",
     "text": [
      "1\n",
      "2\n",
      "1\n",
      "3\n",
      "1\n",
      "2\n",
      "1\n"
     ]
    }
   ],
   "source": [
    "def printRec(x):\n",
    "     if x ==0:\n",
    "          return\n",
    "\n",
    "     printRec(x-1)\n",
    "     print(x)\n",
    "     printRec(x-1)\n",
    "\n",
    "\n",
    "printRec(3)     "
   ]
  },
  {
   "cell_type": "code",
   "execution_count": 1,
   "metadata": {},
   "outputs": [
    {
     "name": "stdout",
     "output_type": "stream",
     "text": [
      "- - - - - - - - - - \n",
      "- - - - - - - - - - \n",
      "- - - - - - - - - - \n",
      "- - - - - - - - - - \n",
      "- - - - - - - - - - \n",
      "- - - - - - - - - - \n",
      "- - - - - - - - - - \n",
      "- - - - - - - - - - \n",
      "- - - - - - - - - - \n",
      "- - - - - - - - - - \n"
     ]
    }
   ],
   "source": [
    "for i in range(1,11):\n",
    "    for j in range(1,11):\n",
    "            print(\"-\",end=\" \")\n",
    "    \n",
    "    print()  "
   ]
  },
  {
   "cell_type": "code",
   "execution_count": 21,
   "metadata": {},
   "outputs": [
    {
     "name": "stdout",
     "output_type": "stream",
     "text": [
      "[[1 2 3]\n",
      " [4 5 6]\n",
      " [7 8 9]]\n"
     ]
    }
   ],
   "source": [
    "from numpy import *\n",
    "\n",
    "arrl = array([\n",
    "                 [1,2,3],\n",
    "                [4,5,6],\n",
    "                [7,8,9]   \n",
    "    \n",
    "            ])\n",
    "\n",
    "print(arrl)"
   ]
  },
  {
   "cell_type": "code",
   "execution_count": null,
   "metadata": {},
   "outputs": [],
   "source": []
  }
 ],
 "metadata": {
  "kernelspec": {
   "display_name": "Python 3",
   "language": "python",
   "name": "python3"
  },
  "language_info": {
   "codemirror_mode": {
    "name": "ipython",
    "version": 3
   },
   "file_extension": ".py",
   "mimetype": "text/x-python",
   "name": "python",
   "nbconvert_exporter": "python",
   "pygments_lexer": "ipython3",
   "version": "3.11.4"
  },
  "orig_nbformat": 4
 },
 "nbformat": 4,
 "nbformat_minor": 2
}
